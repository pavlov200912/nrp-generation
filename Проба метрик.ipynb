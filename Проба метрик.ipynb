{
 "cells": [
  {
   "cell_type": "code",
   "execution_count": 22,
   "id": "7409ed64",
   "metadata": {},
   "outputs": [],
   "source": [
    "import os, json, csv\n",
    "import networkx as nx\n",
    "import networkx.algorithms.isomorphism as iso\n",
    "from networkx.algorithms.isomorphism import faster_could_be_isomorphic as fcbi\n",
    "import matplotlib.pyplot as plt"
   ]
  },
  {
   "cell_type": "code",
   "execution_count": 2,
   "id": "811e8788",
   "metadata": {},
   "outputs": [],
   "source": [
    "data = []\n",
    "with open('data_graphs_adj.tsv', 'r') as rf:\n",
    "    reader = csv.reader(rf, delimiter='\\t')\n",
    "    for row in reader:\n",
    "        data.append(row)"
   ]
  },
  {
   "cell_type": "code",
   "execution_count": 4,
   "id": "ec471054",
   "metadata": {},
   "outputs": [
    {
     "data": {
      "text/plain": [
       "[['ID', 'GRAPH'],\n",
       " ['BGC0001448.2',\n",
       "  'Asp,Asp,Val,Dbu,Asp,X0,Asp,Gly,Pro,Val,Lys;1,2;3,4;5,6;4,5;7,8;8,1;9,10;10,7;2,11;11,3;4,9'],\n",
       " ['BGC0001448.1',\n",
       "  'Lys,Val,Asp,Asp,Dbu,Gly,Pro,Val,Asp,iC10:2(2.t4),Asp;1,2;3,4;2,5;6,3;7,8;9,10;5,7;8,11;4,1;11,6;5,9'],\n",
       " ['BGC0000298.3', 'X0,X1,Ile,X2;1,2;3,4;2,3'],\n",
       " ['BGC0000298.2', 'X0,X1,Ile,4OH-D-Ph-Lac;1,2;2,3;3,4']]"
      ]
     },
     "execution_count": 4,
     "metadata": {},
     "output_type": "execute_result"
    }
   ],
   "source": [
    "data[:5]"
   ]
  },
  {
   "cell_type": "code",
   "execution_count": 26,
   "id": "cc6e471b",
   "metadata": {},
   "outputs": [],
   "source": [
    "def make_graph(s):\n",
    "    if ';' not in s:\n",
    "        g = nx.Graph()\n",
    "        g.add_node('1')\n",
    "        nx.set_node_attributes(g, {'1':{'label':s}})\n",
    "        return g\n",
    "    [acids, edges] = s.split(';', maxsplit=1)\n",
    "    d = {str(i+1): {'label': acid} for i, acid in enumerate(acids.split(','))}\n",
    "    graph =nx.Graph()\n",
    "    for edge in edges.split(';'):\n",
    "        [n1, n2] = edge.split(',')\n",
    "        graph.add_edge(n1, n2)\n",
    "    nx.set_node_attributes(graph, d)\n",
    "    \n",
    "    return graph#, acids.split(',')\n",
    "    \n",
    "    \n",
    "def num_nodes_eq(s1, s2):\n",
    "    '''Проверяет что длина двух соединений равна'''\n",
    "    return len(s1.split(';')[0].split(',')) == len(s2.split(';')[0].split(','))\n",
    "\n",
    "def is_direct_acyclic(s):\n",
    "    '''Проверяет что граф прямой и ацикличный'''\n",
    "    return nx.is_directed_acyclic_graph(make_graph(s))\n",
    "\n",
    "def are_isomorphic(s1, s2):\n",
    "    '''Проверяет изоморфизм двух графов'''\n",
    "    if 'X' in s1 or 'X' in s2:\n",
    "        return False\n",
    "    return nx.is_isomorphic(make_graph(s1), make_graph(s2))\n",
    "\n",
    "def are_equal(s1, s2):\n",
    "    '''Проверяет точное равенство графов с учетом мономеров'''\n",
    "    if not fcbi(make_graph(s1), make_graph(s2)):\n",
    "        return False\n",
    "    if 'X' in s1 or 'X' in s2:\n",
    "        return False\n",
    "    nm = iso.categorical_node_match('label', '')\n",
    "    return nx.is_isomorphic(make_graph(s1), make_graph(s2), node_match=nm)\n",
    "\n",
    "def draw_graph(s):\n",
    "    graph = make_graph(s)\n",
    "    nx.draw_circular(graph,\n",
    "         node_color='red',\n",
    "         node_size=1000,\n",
    "         with_labels=True,\n",
    "        labels = {str(i+1):graph.nodes[str(i+1)]['label'] for i in range(len(graph.nodes))})\n",
    "\n"
   ]
  },
  {
   "cell_type": "code",
   "execution_count": 6,
   "id": "b2049387-8bef-4a1e-99f9-a4550455d7ca",
   "metadata": {},
   "outputs": [
    {
     "name": "stdout",
     "output_type": "stream",
     "text": [
      "1\n",
      "2\n",
      "3\n",
      "4\n"
     ]
    }
   ],
   "source": [
    "s1 = 'X0,Ile,X1,X2;1,2;3,1;2,4'\n",
    "g = make_graph(s1)\n",
    "g.nodes['1']\n",
    "for node in g.nodes:\n",
    "    print(node)"
   ]
  },
  {
   "cell_type": "code",
   "execution_count": 9,
   "id": "05e6629f",
   "metadata": {
    "tags": []
   },
   "outputs": [
    {
     "data": {
      "text/plain": [
       "(['BGC0001448.2',\n",
       "  'Asp,Asp,Val,Dbu,Asp,X0,Asp,Gly,Pro,Val,Lys;1,2;3,4;5,6;4,5;7,8;8,1;9,10;10,7;2,11;11,3;4,9'],\n",
       " ['BGC0001448.1',\n",
       "  'Lys,Val,Asp,Asp,Dbu,Gly,Pro,Val,Asp,iC10:2(2.t4),Asp;1,2;3,4;2,5;6,3;7,8;9,10;5,7;8,11;4,1;11,6;5,9'])"
      ]
     },
     "execution_count": 9,
     "metadata": {},
     "output_type": "execute_result"
    }
   ],
   "source": [
    "i, j = 1, 2\n",
    "data[i],data[j]"
   ]
  },
  {
   "cell_type": "code",
   "execution_count": 16,
   "id": "f4179d93-4bf4-49bf-b5e6-de6658f3d03c",
   "metadata": {},
   "outputs": [],
   "source": [
    "import matplotlib.pyplot as plt"
   ]
  },
  {
   "cell_type": "code",
   "execution_count": 31,
   "id": "128ca748",
   "metadata": {
    "tags": []
   },
   "outputs": [
    {
     "data": {
      "image/png": "[encoded data removed]",
      "text/plain": [
       "<Figure size 432x288 with 1 Axes>"
      ]
     },
     "metadata": {},
     "output_type": "display_data"
    }
   ],
   "source": [
    "\n",
    "draw_graph(data[1][1])\n",
    "\n",
    "#draw_graph(data[2][1])\n"
   ]
  },
  {
   "cell_type": "code",
   "execution_count": null,
   "id": "029e7bf2-32e1-490a-ab92-16ae5b35ac53",
   "metadata": {},
   "outputs": [],
   "source": []
  },
  {
   "cell_type": "code",
   "execution_count": 12,
   "id": "5d72fc55",
   "metadata": {},
   "outputs": [
    {
     "ename": "SyntaxError",
     "evalue": "unexpected EOF while parsing (3747053168.py, line 4)",
     "output_type": "error",
     "traceback": [
      "\u001b[0;36m  File \u001b[0;32m\"/tmp/ipykernel_63066/3747053168.py\"\u001b[0;36m, line \u001b[0;32m4\u001b[0m\n\u001b[0;31m    #print(i, j)\u001b[0m\n\u001b[0m                ^\u001b[0m\n\u001b[0;31mSyntaxError\u001b[0m\u001b[0;31m:\u001b[0m unexpected EOF while parsing\n"
     ]
    }
   ],
   "source": [
    "for i in range(1, len(graphs)):\n",
    "    for j in range(i+1, len(graphs)):\n",
    "        if not are_isomorphic(data[i][1],data[j][1]):\n",
    "            #print(i, j)"
   ]
  },
  {
   "cell_type": "code",
   "execution_count": 280,
   "id": "d7edfa66",
   "metadata": {},
   "outputs": [
    {
     "name": "stdout",
     "output_type": "stream",
     "text": [
      "77 284\n",
      "78 842\n",
      "301 707\n",
      "301 800\n",
      "439 441\n",
      "528 905\n",
      "632 703\n",
      "707 800\n",
      "722 723\n",
      "838 1480\n",
      "925 931\n",
      "1160 1161\n",
      "1163 1212\n",
      "1345 1350\n",
      "1345 1356\n",
      "1350 1356\n",
      "1354 1355\n",
      "1354 1358\n",
      "1355 1358\n",
      "1431 1613\n",
      "1431 1614\n",
      "1431 1616\n",
      "1513 1514\n",
      "1613 1614\n",
      "1613 1616\n",
      "1614 1616\n",
      "1699 1700\n"
     ]
    }
   ],
   "source": [
    "for i in range(1, len(graphs)):\n",
    "    for j in range(i+1, len(graphs)):\n",
    "        if are_equal(data[i][1],data[j][1]):\n",
    "            print(i, j)"
   ]
  },
  {
   "cell_type": "code",
   "execution_count": 242,
   "id": "49463129",
   "metadata": {},
   "outputs": [
    {
     "data": {
      "text/plain": [
       "(True, False, True)"
      ]
     },
     "execution_count": 242,
     "metadata": {},
     "output_type": "execute_result"
    }
   ],
   "source": [
    "s1 = 'X0,Ile,X1,X2;1,2;3,1;2,4'\n",
    "s2 = 'Ile,X0,X1,X2;3,2;1,2;4,1'\n",
    "s3 = 'X3,Ile,X1,X2;1,2;3,1;2,4'\n",
    "are_equal(s1,s2), are_equal(s1, s3), are_isomorphic(s1, s3)"
   ]
  },
  {
   "cell_type": "code",
   "execution_count": 218,
   "id": "47ac7a95",
   "metadata": {},
   "outputs": [
    {
     "data": {
      "text/plain": [
       "True"
      ]
     },
     "execution_count": 218,
     "metadata": {},
     "output_type": "execute_result"
    }
   ],
   "source": [
    "s1 = 'a,b,c,d;1,4;1,2;1,3'\n",
    "g1 = make_graph(s1)\n",
    "s2 = 'a,b,c,d;2,1;4,1;1,3'\n",
    "g2 = make_graph(s2)\n",
    "#are_isomorphic(g1, g2)\n",
    "nm = iso.categorical_node_match('label', '')\n",
    "nx.is_isomorphic(g1, g2, node_match=nm)"
   ]
  },
  {
   "cell_type": "code",
   "execution_count": 80,
   "id": "f133c16a",
   "metadata": {},
   "outputs": [
    {
     "ename": "SyntaxError",
     "evalue": "invalid character in identifier (97589070.py, line 4)",
     "output_type": "error",
     "traceback": [
      "\u001b[0;36m  File \u001b[0;32m\"/tmp/ipykernel_44999/97589070.py\"\u001b[0;36m, line \u001b[0;32m4\u001b[0m\n\u001b[0;31m    №draw_graph(s)\u001b[0m\n\u001b[0m              ^\u001b[0m\n\u001b[0;31mSyntaxError\u001b[0m\u001b[0;31m:\u001b[0m invalid character in identifier\n"
     ]
    }
   ],
   "source": [
    "s = graphs[19][1]\n",
    "g = nx.Graph()\n",
    "g.add_node(1)\n",
    "№draw_graph(s)"
   ]
  },
  {
   "cell_type": "code",
   "execution_count": 106,
   "id": "99a3e842",
   "metadata": {},
   "outputs": [
    {
     "data": {
      "text/plain": [
       "'X0,X1,X2;1,2;3,2;1,3'"
      ]
     },
     "execution_count": 106,
     "metadata": {},
     "output_type": "execute_result"
    }
   ],
   "source": [
    "graphs[18][1]"
   ]
  },
  {
   "cell_type": "code",
   "execution_count": 40,
   "id": "0138974d",
   "metadata": {},
   "outputs": [
    {
     "name": "stdin",
     "output_type": "stream",
     "text": [
      " REDCA\n"
     ]
    },
    {
     "name": "stdout",
     "output_type": "stream",
     "text": [
      "0 71 156 174 285 289 400 418 503 574\n"
     ]
    }
   ],
   "source": [
    "alphabet = ['A','C','D','E','F','G','H','I','K','L','M','N','P','Q','R','S','T','V','W','Y'] \n",
    "masses = [71, 103, 115, 129, 147, 57, 137, 113, 128, 113, 131, 114, 97, 128, 156, 87, 101, 99, 186, 163]\n",
    "d = {alphabet[i]:masses[i] for i in range(len(alphabet))}\n",
    "spectrum = set({0})\n",
    "s = input()\n",
    "def func(s):\n",
    "    global d\n",
    "    res = 0\n",
    "    for i in s:\n",
    "        res += d[i]\n",
    "    return res\n",
    "for i in range(len(s)):\n",
    "    spectrum.add(func(s[:i+1]))\n",
    "    spectrum.add(func(s[-i+1:]))\n",
    "print(*sorted(list(spectrum)))"
   ]
  },
  {
   "cell_type": "code",
   "execution_count": 42,
   "id": "019dd741",
   "metadata": {},
   "outputs": [
    {
     "data": {
      "text/plain": [
       "[0, 71, 156, 174, 285, 289, 400, 418, 503, 574]"
      ]
     },
     "execution_count": 42,
     "metadata": {},
     "output_type": "execute_result"
    }
   ],
   "source": [
    "s1 = '1,2,3;1,3'"
   ]
  },
  {
   "cell_type": "code",
   "execution_count": null,
   "id": "4d0f1d09-b796-4557-904d-4f358424dc48",
   "metadata": {},
   "outputs": [],
   "source": []
  }
 ],
 "metadata": {
  "kernelspec": {
   "display_name": "Python 3 (ipykernel)",
   "language": "python",
   "name": "python3"
  },
  "language_info": {
   "codemirror_mode": {
    "name": "ipython",
    "version": 3
   },
   "file_extension": ".py",
   "mimetype": "text/x-python",
   "name": "python",
   "nbconvert_exporter": "python",
   "pygments_lexer": "ipython3",
   "version": "3.8.12"
  },
  "toc-autonumbering": true,
  "toc-showcode": false,
  "toc-showmarkdowntxt": false,
  "toc-showtags": false
 },
 "nbformat": 4,
 "nbformat_minor": 5
}
