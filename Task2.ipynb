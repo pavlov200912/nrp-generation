{
 "cells": [
  {
   "cell_type": "code",
   "execution_count": 1,
   "id": "42816be2",
   "metadata": {},
   "outputs": [],
   "source": [
    "import os, json, csv\n",
    "import networkx as nx"
   ]
  },
  {
   "cell_type": "code",
   "execution_count": 2,
   "id": "232ff25a",
   "metadata": {},
   "outputs": [],
   "source": [
    "file_names = os.listdir('mibig_json_2.0')\n",
    "res_dict = {}"
   ]
  },
  {
   "cell_type": "markdown",
   "id": "ba8a67ef",
   "metadata": {},
   "source": [
    "Создаем словарь со SMILE структурами. Если у одного BGC несколько структур, то i-ая структура будет записана через .i"
   ]
  },
  {
   "cell_type": "code",
   "execution_count": 3,
   "id": "edb08d2d",
   "metadata": {},
   "outputs": [],
   "source": [
    "for file_name in file_names:\n",
    "    with open('mibig_json_2.0/'+file_name, 'r') as read_file:\n",
    "        data = json.load(read_file)\n",
    "        if len(data['cluster']['compounds']) == 1:\n",
    "            compound = data['cluster']['compounds'][0]\n",
    "            if 'chem_struct' in compound:\n",
    "                res_dict[file_name[:-5]] = (compound['chem_struct'])\n",
    "        else: \n",
    "            i = 1\n",
    "            for compound in data['cluster']['compounds']:\n",
    "                if 'chem_struct' in compound:\n",
    "                    res_dict[file_name[:-5]+f'.{i}'] = (compound['chem_struct'])\n",
    "                    i+=1"
   ]
  },
  {
   "cell_type": "markdown",
   "id": "a4ddf472",
   "metadata": {},
   "source": [
    "Переписываем словарь в файл tsv для нерпы, первый столбец - BGC ID, второй - SMILE"
   ]
  },
  {
   "cell_type": "code",
   "execution_count": 4,
   "id": "e09428c7",
   "metadata": {},
   "outputs": [],
   "source": [
    "with open('data_structures.tsv', 'wt') as out_file:\n",
    "    tsv_writer = csv.writer(out_file, delimiter='\\t')\n",
    "    tsv_writer.writerow(['ID', 'SMILES'])\n",
    "    for key in res_dict.keys():\n",
    "        tsv_writer.writerow([key, res_dict[key]])"
   ]
  },
  {
   "cell_type": "markdown",
   "id": "db1c3a45",
   "metadata": {},
   "source": []
  },
  {
   "cell_type": "code",
   "execution_count": 5,
   "id": "a131af39",
   "metadata": {},
   "outputs": [],
   "source": [
    "file_names = os.listdir('mibig_json_2.0')"
   ]
  },
  {
   "cell_type": "code",
   "execution_count": 6,
   "id": "86fabb8c",
   "metadata": {},
   "outputs": [],
   "source": [
    "with open('structures.info', 'r') as read_file:\n",
    "    arr = []\n",
    "    for s in read_file:\n",
    "        arr.append(s)"
   ]
  },
  {
   "cell_type": "code",
   "execution_count": 7,
   "id": "5cc3fde6",
   "metadata": {},
   "outputs": [
    {
     "name": "stdout",
     "output_type": "stream",
     "text": [
      "BGC0001189_variant0 @L-OH-Asp,@D-aThr/Thr,@L-Asp,@D-OH-Orn,@L-Ser,OH-cOrn;0,1;1,2;2,3;3,4;4,5 7,2,1,5,4,3;1,2;3,4;4,5;5,1;5,6;7,8;2,7\n",
      "\n"
     ]
    }
   ],
   "source": [
    "print(arr[20])"
   ]
  },
  {
   "cell_type": "code",
   "execution_count": 8,
   "id": "1293dc94",
   "metadata": {},
   "outputs": [],
   "source": [
    "def edit(s):\n",
    "    s = s.split()\n",
    "    comp_id = s[0].split('_')[0]\n",
    "    s0 = s[1].split(';')\n",
    "    acids = s0[0].split(',')\n",
    "    d = {i: acid for i, acid in enumerate(acids)}\n",
    "    edges = s0[1:]# + s[2].split(';')[1:]\n",
    "    s2 = s[2].split(';')[1:]\n",
    "    return d, edges, comp_id"
   ]
  },
  {
   "cell_type": "code",
   "execution_count": 9,
   "id": "79e6507d",
   "metadata": {},
   "outputs": [],
   "source": [
    "def draw_graph(s):\n",
    "    d, edges, name = edit(s)\n",
    "    graph =nx.Graph()\n",
    "    for acid in d.values():\n",
    "        graph.add_node(acid)\n",
    "    for edge in edges:\n",
    "        e = list(map(int, edge.split(',')))\n",
    "        graph.add_edge(d[e[0]], d[e[1]])\n",
    "    print(name)\n",
    "    nx.draw_circular(graph,\n",
    "         node_color='red',\n",
    "         node_size=1000,\n",
    "         with_labels=True)"
   ]
  },
  {
   "cell_type": "code",
   "execution_count": 10,
   "id": "e365bb3b",
   "metadata": {},
   "outputs": [
    {
     "name": "stdout",
     "output_type": "stream",
     "text": [
      "BGC0000335.1\n"
     ]
    },
    {
     "data": {
      "image/png": "[encoded data removed]",
      "text/plain": [
       "<Figure size 432x288 with 1 Axes>"
      ]
     },
     "metadata": {},
     "output_type": "display_data"
    }
   ],
   "source": [
    "draw_graph(arr[40])"
   ]
  },
  {
   "cell_type": "markdown",
   "id": "4a7b81f5-31d9-44f0-b07a-b36d5688fdf4",
   "metadata": {},
   "source": [
    "Строка для запуска нерпы"
   ]
  },
  {
   "cell_type": "code",
   "execution_count": null,
   "id": "522503d0-778b-4515-879d-b25175bb90e8",
   "metadata": {},
   "outputs": [],
   "source": [
    "nerpa.py -a test_data/MIBiG_subset/genome_predictions --smiles-tsv <tsv> col-id ID"
   ]
  },
  {
   "cell_type": "code",
   "execution_count": 11,
   "id": "1a6ae5bf",
   "metadata": {},
   "outputs": [],
   "source": [
    "with open('rban.output.json', 'r') as read_file:\n",
    "        data = json.load(read_file)"
   ]
  },
  {
   "cell_type": "code",
   "execution_count": 12,
   "id": "12c0b07f",
   "metadata": {},
   "outputs": [],
   "source": [
    "for i in data:\n",
    "    i = i['monomericGraph']['monomericGraph']"
   ]
  },
  {
   "cell_type": "code",
   "execution_count": 13,
   "id": "21712ee0",
   "metadata": {
    "scrolled": true
   },
   "outputs": [
    {
     "data": {
      "text/plain": [
       "[3, 4]"
      ]
     },
     "execution_count": 13,
     "metadata": {},
     "output_type": "execute_result"
    }
   ],
   "source": [
    "data[0]['monomericGraph']['monomericGraph']['bonds'][1]['bond']['monomers']"
   ]
  },
  {
   "cell_type": "code",
   "execution_count": 14,
   "id": "a47c6fd6",
   "metadata": {},
   "outputs": [],
   "source": [
    "def proceed_compound(comp):\n",
    "    name = comp['id']\n",
    "    comp = comp['monomericGraph']['monomericGraph']\n",
    "    monomers = comp['monomers']\n",
    "    bonds = comp['bonds']\n",
    "    nodes = []\n",
    "    edges = []\n",
    "    s = ''\n",
    "    for monomer in monomers:\n",
    "        nodes.append(sorted(monomer['monomer']['monomer']['codes'], key=len)[0])\n",
    "        s += sorted(monomer['monomer']['monomer']['codes'], key=len)[0] + ','\n",
    "    s = s[:-1]\n",
    "    for bond in bonds:\n",
    "        edges.append(bond['bond']['monomers'])\n",
    "        s += ';' + str(bond['bond']['monomers'][0]) + ',' + str(bond['bond']['monomers'][1]) \n",
    "    return name, s #, nodes, edges"
   ]
  },
  {
   "cell_type": "code",
   "execution_count": 15,
   "id": "42cfd3e5",
   "metadata": {},
   "outputs": [],
   "source": [
    "with open('data_graphs.tsv', 'wt') as out_file:\n",
    "    tsv_writer = csv.writer(out_file, delimiter='\\t')\n",
    "    tsv_writer.writerow(['ID', 'GRAPH'])\n",
    "    for i in data:\n",
    "        (name, s) = proceed_compound(i)\n",
    "        tsv_writer.writerow([name, s])"
   ]
  },
  {
   "cell_type": "code",
   "execution_count": 16,
   "id": "b1e691d5",
   "metadata": {},
   "outputs": [
    {
     "data": {
      "text/plain": [
       "'Asp,OH-Asp,Val,Dbu,bMe-Asp,X0,bMe-Asp,Gly,4Me-Pro,Val,Lys;1,2;3,4;5,6;4,5;7,8;8,1;9,10;10,7;2,11;11,3;4,9'"
      ]
     },
     "execution_count": 16,
     "metadata": {},
     "output_type": "execute_result"
    }
   ],
   "source": [
    "proceed_compound(data[0])[1]"
   ]
  },
  {
   "cell_type": "code",
   "execution_count": 17,
   "id": "31676b1e",
   "metadata": {},
   "outputs": [],
   "source": [
    "import numpy as np\n",
    "import matplotlib.pyplot as plt"
   ]
  },
  {
   "cell_type": "code",
   "execution_count": 40,
   "id": "a3b5cb2e",
   "metadata": {},
   "outputs": [],
   "source": [
    "uni = np.array([])\n",
    "with open('data_graphs.tsv', 'r') as rf:\n",
    "    reader = csv.reader(rf, delimiter='\\t')\n",
    "    for row in reader:\n",
    "        acids = row[1].split(';')[0].split(',')\n",
    "        uni = np.append(uni, np.array(acids))"
   ]
  },
  {
   "cell_type": "code",
   "execution_count": 55,
   "id": "637667de",
   "metadata": {
    "collapsed": true,
    "jupyter": {
     "outputs_hidden": true
    },
    "tags": []
   },
   "outputs": [
    {
     "name": "stdout",
     "output_type": "stream",
     "text": [
      "X0 1788\n",
      "X1 863\n",
      "X2 355\n",
      "Ala 311\n",
      "Gly 273\n",
      "Leu 267\n",
      "Val 265\n",
      "Thr 218\n",
      "Ser 197\n",
      "Glc 191\n",
      "Ile 188\n",
      "Cys 144\n",
      "X3 136\n",
      "Asn 121\n",
      "Pro 120\n",
      "dhCys 119\n",
      "Asp 93\n",
      "Gln 90\n",
      "Phe 86\n",
      "dhAbu 75\n",
      "Lys 75\n",
      "dh-Ala 64\n",
      "Trp 63\n",
      "Glu 60\n",
      "Arg 59\n",
      "Oli 57\n",
      "Abu 55\n",
      "Tyr 54\n",
      "Hpg 51\n",
      "X4 49\n",
      "NMe-Val 42\n",
      "His 36\n",
      "diOH-Bz 35\n",
      "NMe-Thr 32\n",
      "NMe-Leu 31\n",
      "Dab 31\n",
      "NMe-Gly 29\n",
      "Lac 25\n",
      "Hiv 24\n",
      "OH-Asp 24\n",
      "NMe-Phe 23\n",
      "Rha 21\n",
      "Suc 20\n",
      "bMe-Phe 20\n",
      "bMe-Asp 20\n",
      "Dhpg 20\n",
      "Bz 19\n",
      "OH-Asn 19\n",
      "t-Leu 19\n",
      "C14:0-OH(3) 19\n",
      "Orn 17\n",
      "X5 16\n",
      "Dht 16\n",
      "Sal 15\n",
      "NMe-Cys 15\n",
      "Dbu 15\n",
      "D-N2Me-Asn 14\n",
      "Fo-OH-Orn 14\n",
      "C10:0-OH(3) 13\n",
      "Met 13\n",
      "Ph-Ser 12\n",
      "OH-cOrn 12\n",
      "bAla 12\n",
      "bOH-Cl-Tyr 12\n",
      "3OH-Leu 12\n",
      "Adda 11\n",
      "bOH-Val 11\n",
      "NMe-Hpr 10\n",
      "bLys 10\n",
      "4Me-Pro 9\n",
      "C12:0 9\n",
      "Dpr 9\n",
      "aFo-Gly 9\n",
      "NMe-Dha 9\n",
      "OH-Orn 9\n",
      "Hpr 9\n",
      "C6:0-Ep(2) 8\n",
      "NMe-Ser 8\n",
      "bOH-Tyr 8\n",
      "C4:0-Me(2) 8\n",
      "X7 8\n",
      "NFo-Ala 8\n",
      "C4:0-OH(3) 8\n",
      "Piz 8\n",
      "C14:0 8\n",
      "Ac-OH-Orn 7\n",
      "Aib 7\n",
      "4OH-Pro 7\n",
      "NFo-Met 7\n",
      "C4:0 7\n",
      "X6 7\n",
      "NFo-Val 7\n",
      "Aco 7\n",
      "Hse 7\n",
      "4Me-Hva 7\n",
      "Hty 6\n",
      "COOH-Qui 6\n",
      "bPhe 6\n",
      "NMe-Ile 6\n",
      "NFo-Hpr 6\n",
      "NMe-Ala 6\n",
      "C8:0-OH(3) 6\n",
      "Put 6\n",
      "Ara 6\n",
      "Pya 6\n",
      "C6:0 5\n",
      "Cap 5\n",
      "3Me-Glu 5\n",
      "diMe-Cys 5\n",
      "Ere 5\n",
      "NFo-Lys 5\n",
      "C8:0 5\n",
      "Ph-Lac 5\n",
      "Pda 5\n",
      "X8 5\n",
      "C12:0-OH(3) 5\n",
      "dh-Trp 5\n",
      "Hmp 5\n",
      "C10:0 4\n",
      "Aad 4\n",
      "2OMe-Rha 4\n",
      "OMe-Thr 4\n",
      "NMe-OMe-Tyr 4\n",
      "OMe-bAla-Thz 4\n",
      "NMe-Asn 4\n",
      "3Me-Pro 4\n",
      "bU-dAla 4\n",
      "C6:2(t2.t4) 4\n",
      "C16:0 4\n",
      "Hip 4\n",
      "3OH-Pro 4\n",
      "Hpa 4\n",
      "D-N2Me-bOH-Asn 4\n",
      "Cl-Tyr 4\n",
      "Lyserg 3\n",
      "pNH2-Bz 3\n",
      "Ist 3\n",
      "Iser 3\n",
      "iC8:0 3\n",
      "GlyA 3\n",
      "D-PO-Asn 3\n",
      "Tig 3\n",
      "NMe-Hty 3\n",
      "Spd 3\n",
      "Pha 3\n",
      "aMe-Cys 3\n",
      "OH-His 3\n",
      "Alaol 3\n",
      "OH-4Abu 3\n",
      "C16:0-OH(3) 3\n",
      "NMe-Tyr 3\n",
      "C4:0-OH(2.3) 3\n",
      "Cl2-Pro 3\n",
      "Eta 3\n",
      "NAc-Cys 3\n",
      "NAc-OH-Orn 3\n",
      "NFo-Ile 3\n",
      "Cl-Hpg 3\n",
      "C8:0:1(7) 2\n",
      "Cit 2\n",
      "C12:1(5)-OH(3) 2\n",
      "Cl2-Hpg 2\n",
      "C15:0-OH(3) 2\n",
      "Choi 2\n",
      "C8:2(2.t4) 2\n",
      "4OH-D-Ph-Lac 2\n",
      "4Cl-Thr 2\n",
      "C6:0-Me(5.5)-oxo(2) 2\n",
      "C6:0-OH(3) 2\n",
      "CFA 2\n",
      "Aca 2\n",
      "2Dh-Mabu 2\n",
      "bhEnd 2\n",
      "NAc-Ala 2\n",
      "bOH-Gln 2\n",
      "bbMe2-O-Met 2\n",
      "NMe-Hpg 2\n",
      "bMe-Ile 2\n",
      "bMe-Gln 2\n",
      "iC11:0 2\n",
      "pTrp 2\n",
      "NAc-Thr 2\n",
      "aC9:0 2\n",
      "NMe-Bmt 2\n",
      "Me-Vaa 2\n",
      "iC5:0-OH(2.3) 2\n",
      "NdMe-Ala 2\n",
      "ProC 2\n",
      "aC15:1(3) 1\n",
      "aC15:0-NH2(3) 1\n",
      "Ahad 1\n",
      "C10:0-Me(2)-OH(3) 1\n",
      "C10:0-NH2(2)-Ep(9)-oxo(8) 1\n",
      "Argal 1\n",
      "bMe-AOA 1\n",
      "bMe-Br-Phe 1\n",
      "C10:0-NH2(2)-oxo(8) 1\n",
      "aC13:1(3) 1\n",
      "Valol 1\n",
      "aC17:0-NH2(3) 1\n",
      "End 1\n",
      "Agdha 1\n",
      "bOH-NMe-Val 1\n",
      "pOH-Bz 1\n",
      "iC9:0-OH(3) 1\n",
      "iC9:0 1\n",
      "3NO2-Tyr 1\n",
      "iC7:0 1\n",
      "iC17:0-OH(3) 1\n",
      "iC16:0-OH(3) 1\n",
      "iC15:0-OH(3) 1\n",
      "iC14:1(3) 1\n",
      "iC13:1(3) 1\n",
      "4oxo-Hpr 1\n",
      "4oxo-Van 1\n",
      "iC10:2(2.t4) 1\n",
      "diMe-aIle 1\n",
      "Ac-Phe 1\n",
      "Ac-Trp 1\n",
      "Ph-Gly 1\n",
      "Pheol 1\n",
      "OMe-Trp 1\n",
      "C14:0-NH2(3) 1\n",
      "C8:3(t2.t4.t6) 1\n",
      "CMA 1\n",
      "NFo-Nva 1\n",
      "NFo-Leu 1\n",
      "NFo-Cl-Tyr 1\n",
      "ChrAct 1\n",
      "NAc-Leu 1\n",
      "NAc-Ile 1\n",
      "NAc-Ac-OH-Orn 1\n",
      "CysA 1\n",
      "NAc-3OH-Leu 1\n",
      "D-OH-dHpg 1\n",
      "Me-Suc 1\n",
      "Kyn 1\n",
      "ICA 1\n",
      "Hph 1\n",
      "Har 1\n",
      "Dov 1\n",
      "NFo-OH-Orn 1\n",
      "C8:2(5.7)-Me(6)-OH(4)-NH2(3)-Ph(8) 1\n",
      "PT 1\n",
      "NFo-Ser 1\n",
      "C14:1(7) 1\n",
      "GRAPH 1\n",
      "Nva 1\n",
      "C16:0-OH(3.4) 1\n",
      "NSpd 1\n",
      "NMe-hv-Val 1\n",
      "NMe-Trp 1\n",
      "NMe-Pro 1\n",
      "C4:1(3)-OH(2) 1\n",
      "C5:0-NH2(3) 1\n",
      "NMe-Ph-Gly 1\n",
      "NMe-OMe-Thr 1\n",
      "NMe-OH-Orn 1\n",
      "NMe-NAc-Ile 1\n",
      "NMe-Fo-OH-Orn 1\n",
      "NMe-4PPro 1\n",
      "C8:1(7)-OH(2.4.5)-NH2(3)-Ph(8) 1\n",
      "NAc-bMe-Phe 1\n"
     ]
    }
   ],
   "source": [
    "vals = np.unique(uni, return_counts=True)[0]\n",
    "counts = np.unique(uni, return_counts=True)[1]\n",
    "\n",
    "idx = np.flip(np.argsort(counts))\n",
    "for i in idx:\n",
    "    print(vals[i], counts[i])"
   ]
  },
  {
   "cell_type": "code",
   "execution_count": 65,
   "id": "7f95308f",
   "metadata": {},
   "outputs": [
    {
     "data": {
      "text/plain": [
       "True"
      ]
     },
     "execution_count": 65,
     "metadata": {},
     "output_type": "execute_result"
    }
   ],
   "source": [
    "'Gln' in acids"
   ]
  },
  {
   "cell_type": "code",
   "execution_count": 63,
   "id": "724d1827",
   "metadata": {},
   "outputs": [],
   "source": [
    "acids = ['Gly', 'Leu', 'Tyr', 'Ser', 'Glu', 'Gln', 'Asp', 'Asn',\n",
    "         'Phe', 'Ala', 'Lys', 'Arg', 'His', 'Cys', 'Val', 'Pro',\n",
    "         'Hyp', 'Trp', 'Ile', 'Met', 'Thr', 'Hyl']"
   ]
  },
  {
   "cell_type": "code",
   "execution_count": 71,
   "id": "9bac0558",
   "metadata": {},
   "outputs": [],
   "source": [
    "with open('rban_monomers_db.json', 'r') as read_file:\n",
    "        monomers = json.load(read_file)"
   ]
  },
  {
   "cell_type": "code",
   "execution_count": 72,
   "id": "1f8bc438",
   "metadata": {},
   "outputs": [
    {
     "data": {
      "text/plain": [
       "{'id': 4,\n",
       " 'cid': '13908552',\n",
       " 'monomer': 'iC16:0-OH(3)',\n",
       " 'codes': ['iC16:0-OH(3)'],\n",
       " 'names': ['3-hydroxy-14-methyl-pentadecanoic acid'],\n",
       " 'smiles': 'CC(C)CCCCCCCCCCC(O)CC(O)=O',\n",
       " 'mwHeavyAtoms': 239.98474386,\n",
       " 'isNew': False,\n",
       " 'isIdentified': True,\n",
       " 'compounds': None,\n",
       " 'compoundsCount': 0}"
      ]
     },
     "execution_count": 72,
     "metadata": {},
     "output_type": "execute_result"
    }
   ],
   "source": [
    "monomers[3]"
   ]
  },
  {
   "cell_type": "code",
   "execution_count": 79,
   "id": "ef818494",
   "metadata": {},
   "outputs": [
    {
     "name": "stdout",
     "output_type": "stream",
     "text": [
      "{'id': 371, 'cid': '123991', 'monomer': 'dh-Ala', 'codes': ['dh-Ala'], 'names': ['dehydroalanine'], 'smiles': 'C=C(N)C(=O)O', 'mwHeavyAtoms': 81.99290324, 'isNew': False, 'isIdentified': True, 'compounds': None, 'compoundsCount': 0}\n"
     ]
    }
   ],
   "source": [
    "for mon in monomers:\n",
    "    if 'dh-Ala' in mon['codes']:\n",
    "        print(mon)"
   ]
  },
  {
   "cell_type": "code",
   "execution_count": 91,
   "id": "4882ff2e",
   "metadata": {},
   "outputs": [],
   "source": [
    "graphs = []\n",
    "with open('data_graphs.tsv', 'r') as rf:\n",
    "    reader = csv.reader(rf, delimiter='\\t')\n",
    "    for row in reader:\n",
    "        graphs.append(row)"
   ]
  },
  {
   "cell_type": "code",
   "execution_count": null,
   "id": "d530bf43",
   "metadata": {},
   "outputs": [],
   "source": [
    "graphs"
   ]
  },
  {
   "cell_type": "code",
   "execution_count": 88,
   "id": "f1609675",
   "metadata": {},
   "outputs": [],
   "source": [
    "monomers = {}\n",
    "with open('monomers.tsv', 'r') as rf:\n",
    "    reader = csv.reader(rf, delimiter='\\t')\n",
    "    for row in reader:\n",
    "        monomers[row[0]] = row[1].capitalize()"
   ]
  },
  {
   "cell_type": "code",
   "execution_count": null,
   "id": "82ecf0a4",
   "metadata": {},
   "outputs": [],
   "source": [
    "monomers"
   ]
  },
  {
   "cell_type": "code",
   "execution_count": 110,
   "id": "c2989e02",
   "metadata": {},
   "outputs": [
    {
     "data": {
      "text/plain": [
       "'Asp,OH-Asp,Val,Dbu,bMe-Asp,X0,bMe-Asp,Gly,4Me-Pro,Val,Lys;1,2;3,4;5,6;4,5;7,8;8,1;9,10;10,7;2,11;11,3;4,9'"
      ]
     },
     "execution_count": 110,
     "metadata": {},
     "output_type": "execute_result"
    }
   ],
   "source": [
    "s = proceed_compound(data[0])[1]\n",
    "s"
   ]
  },
  {
   "cell_type": "code",
   "execution_count": 127,
   "id": "9ab118f0",
   "metadata": {},
   "outputs": [],
   "source": [
    "def proceed_monomers(s):\n",
    "    if ';' not in s:\n",
    "        return s\n",
    "    arr = s.split(';', maxsplit=1)\n",
    "    acids = arr[0].split(',')\n",
    "    for i, acid in enumerate(acids):\n",
    "        if acid in monomers.keys():\n",
    "            acids[i] = monomers[acid]\n",
    "    s = ','.join(acids)\n",
    "    s = ';'.join([s, arr[1]])\n",
    "    return s"
   ]
  },
  {
   "cell_type": "code",
   "execution_count": 128,
   "id": "b3abb934",
   "metadata": {},
   "outputs": [
    {
     "data": {
      "text/plain": [
       "'X0'"
      ]
     },
     "execution_count": 128,
     "metadata": {},
     "output_type": "execute_result"
    }
   ],
   "source": [
    "n =18\n",
    "proceed_monomers(proceed_compound(data[n])[1])"
   ]
  },
  {
   "cell_type": "code",
   "execution_count": 126,
   "id": "3232f364",
   "metadata": {},
   "outputs": [
    {
     "data": {
      "text/plain": [
       "('BGC0001119.3', 'X0')"
      ]
     },
     "execution_count": 126,
     "metadata": {},
     "output_type": "execute_result"
    }
   ],
   "source": [
    "proceed_compound(data[n])"
   ]
  },
  {
   "cell_type": "code",
   "execution_count": 129,
   "id": "2f259f15",
   "metadata": {},
   "outputs": [],
   "source": [
    "with open('data_graphs_adj.tsv', 'wt') as out_file:\n",
    "    tsv_writer = csv.writer(out_file, delimiter='\\t')\n",
    "    tsv_writer.writerow(['ID', 'GRAPH'])\n",
    "    for i in data:\n",
    "        (name, s) = proceed_compound(i)\n",
    "        s = proceed_monomers(s)\n",
    "        tsv_writer.writerow([name, s])"
   ]
  },
  {
   "cell_type": "code",
   "execution_count": 130,
   "id": "a5b77aa1",
   "metadata": {},
   "outputs": [],
   "source": [
    "graphs_1 = []\n",
    "with open('data_graphs_adj.tsv', 'r') as rf:\n",
    "    reader = csv.reader(rf, delimiter='\\t')\n",
    "    for row in reader:\n",
    "        graphs_1.append(row)"
   ]
  },
  {
   "cell_type": "code",
   "execution_count": null,
   "id": "7aca25c9",
   "metadata": {},
   "outputs": [],
   "source": []
  }
 ],
 "metadata": {
  "kernelspec": {
   "display_name": "Python 3 (ipykernel)",
   "language": "python",
   "name": "python3"
  },
  "language_info": {
   "codemirror_mode": {
    "name": "ipython",
    "version": 3
   },
   "file_extension": ".py",
   "mimetype": "text/x-python",
   "name": "python",
   "nbconvert_exporter": "python",
   "pygments_lexer": "ipython3",
   "version": "3.8.12"
  }
 },
 "nbformat": 4,
 "nbformat_minor": 5
}
