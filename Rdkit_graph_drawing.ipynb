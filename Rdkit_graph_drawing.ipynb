{
 "cells": [
  {
   "cell_type": "code",
   "execution_count": 1,
   "id": "3020a46e",
   "metadata": {},
   "outputs": [],
   "source": [
    "import json\n",
    "import requests\n",
    "import os\n",
    "import urllib\n",
    "from rdkit import Chem\n",
    "from rdkit.Chem.Draw import MolsToGridImage\n",
    "from rdkit.Chem.Draw import IPythonConsole\n",
    "from rdkit.Chem import Draw\n",
    "from rdkit.Chem import AllChem\n",
    "from rdkit.Chem import Graphs\n",
    "from rdkit.Chem import rdmolops\n",
    "from rdkit.Chem import Draw\n",
    "# with CoordGen\n",
    "from rdkit.Chem import rdCoordGen\n",
    "from rdkit.Chem.Draw import MolDrawing, DrawingOptions\n",
    "\n",
    "IPythonConsole.drawOptions.addAtomIndices = True #индексируем атомы"
   ]
  },
  {
   "cell_type": "markdown",
   "id": "8b791f0d",
   "metadata": {},
   "source": [
    "## Скачиваем данные"
   ]
  },
  {
   "cell_type": "code",
   "execution_count": 2,
   "id": "ed261827",
   "metadata": {},
   "outputs": [],
   "source": [
    "url = 'https://bitbucket.org/sib-pig/rban/raw/0190ed2f49d6e52d8454f7e99add24a715ece4aa/src/main/resources/molecules/monomer/nrproMonomers.json'\n",
    "response = requests.get(url)\n",
    "\n",
    "monomers = json.loads(response.text)\n",
    "#response.raise_for_status()  # raises exception when not a 2xx response\n",
    "#if response.status_code != 204:\n",
    " #   print(response.text)\n",
    "  #  monomers = json.loads(response)"
   ]
  },
  {
   "cell_type": "code",
   "execution_count": 3,
   "id": "4efff295",
   "metadata": {},
   "outputs": [],
   "source": [
    "#Можно раскомментировать, чтобы убедиться что это json\n",
    "#monomers"
   ]
  },
  {
   "cell_type": "markdown",
   "id": "76fdc658",
   "metadata": {},
   "source": [
    "### Создаем словарь monomer:smiles"
   ]
  },
  {
   "cell_type": "code",
   "execution_count": 4,
   "id": "99cf3d06",
   "metadata": {},
   "outputs": [],
   "source": [
    "monomers_dict = {}\n",
    "for mon in monomers:\n",
    "    monomers_dict[mon['monomer']] = mon['smiles'] "
   ]
  },
  {
   "cell_type": "code",
   "execution_count": 5,
   "id": "4cb5e536",
   "metadata": {},
   "outputs": [],
   "source": [
    "#Вывод словаря\n",
    "#print(monomers_dict)"
   ]
  },
  {
   "cell_type": "code",
   "execution_count": 6,
   "id": "709b5291",
   "metadata": {},
   "outputs": [
    {
     "data": {
      "text/plain": [
       "'NC(Cc1ccccc1)C(=O)O'"
      ]
     },
     "execution_count": 6,
     "metadata": {},
     "output_type": "execute_result"
    }
   ],
   "source": [
    "monomers_dict['Phe'] #проверка,что в словаре есть нужные аминокислоты"
   ]
  },
  {
   "cell_type": "code",
   "execution_count": 7,
   "id": "a67c40e5",
   "metadata": {},
   "outputs": [
    {
     "data": {
      "text/plain": [
       "'CCCCCCC=CCC(O)CC(O)=O'"
      ]
     },
     "execution_count": 7,
     "metadata": {},
     "output_type": "execute_result"
    }
   ],
   "source": [
    "monomers_dict['C12:1(5)-OH(3)'] "
   ]
  },
  {
   "cell_type": "markdown",
   "id": "ca1e4d9c",
   "metadata": {},
   "source": [
    "### Выделим необходимые для построения регулярные выражения"
   ]
  },
  {
   "cell_type": "code",
   "execution_count": 8,
   "id": "9ea74ecf",
   "metadata": {},
   "outputs": [],
   "source": [
    "part_O_C_OH = Chem.MolFromSmiles('C(=O)O')#O=C-OH "
   ]
  },
  {
   "cell_type": "code",
   "execution_count": 9,
   "id": "a8f5ef76",
   "metadata": {},
   "outputs": [],
   "source": [
    "without_radical = Chem.MolFromSmiles('NCC(=O)O')#NH2_C_C_O_OH"
   ]
  },
  {
   "cell_type": "code",
   "execution_count": 10,
   "id": "2cc2122e",
   "metadata": {},
   "outputs": [],
   "source": [
    "amino_group = Chem.MolFromSmiles('NC')#NH2_C"
   ]
  },
  {
   "cell_type": "code",
   "execution_count": 11,
   "id": "414ead10",
   "metadata": {},
   "outputs": [],
   "source": [
    "without_OH = Chem.MolFromSmiles('NCC(=O)')#NH2-C-C=O"
   ]
  },
  {
   "cell_type": "code",
   "execution_count": 12,
   "id": "1141f340",
   "metadata": {},
   "outputs": [],
   "source": [
    "part_OH = Chem.MolFromSmiles('CO')#NH2-C-C=O"
   ]
  },
  {
   "cell_type": "code",
   "execution_count": 13,
   "id": "82422648",
   "metadata": {},
   "outputs": [],
   "source": [
    "part_O = Chem.MolFromSmiles('C(=O)')#C=O"
   ]
  },
  {
   "cell_type": "markdown",
   "id": "daff5615",
   "metadata": {},
   "source": [
    "## Создаем граф"
   ]
  },
  {
   "cell_type": "code",
   "execution_count": 14,
   "id": "2dd6910a",
   "metadata": {},
   "outputs": [],
   "source": [
    "def make_list_of_moleculas(list_of_acids):\n",
    "    \"\"\"\n",
    "    Makes list of moleculas from string of moleculas\n",
    "    \n",
    "    Returns: list of moleculas\n",
    "    \"\"\"\n",
    "    list_of_mols = []\n",
    "    for acid in list_of_acids:\n",
    "        list_of_mols.append(Chem.MolFromSmiles(monomers_dict[acid]))\n",
    "    return list_of_mols"
   ]
  },
  {
   "cell_type": "code",
   "execution_count": 15,
   "id": "acd9f012",
   "metadata": {},
   "outputs": [],
   "source": [
    "class Graph:\n",
    "    \"\"\"\n",
    "    Graph class represents a graph, which we got from input\n",
    "\n",
    "    - list_of_monomers: list of vertex in graph\n",
    "    - list_of_edges: list of edges in graph\n",
    "    - processed: list of flags, that showa wheather we have already visited these vertexes or not\n",
    "\n",
    "    You might want to add other fields/methods for Peptide\n",
    "    \"\"\"\n",
    "    def __init__(self):\n",
    "        \n",
    "        self.list_of_monomers = []\n",
    "        self.list_of_edges = []\n",
    "        #self.types = {}\n",
    "        self.processed = []\n",
    "    \n",
    "\n",
    "    def read_from_string(self, graph_string): \n",
    "        '''\n",
    "        Converting a string like (Phe,Ser,Cl2-Pro,Abu,Ser;0,1;1,2;2,3;3,4;4,0) to a graph\n",
    "        '''\n",
    "        list = graph_string.split(';')\n",
    "        self.list_of_monomers = make_list_of_moleculas(list[0].split(','))\n",
    "        for i in range(len(self.list_of_monomers)):\n",
    "            self.processed.append(False)\n",
    "        for i in range(1, len(list)):\n",
    "            pair = (int(list[i].split(',')[0]), int(list[i].split(',')[1]))\n",
    "            self.list_of_edges.append(pair)\n",
    "     \n",
    "    def was_processed(self, index):\n",
    "        '''\n",
    "        Check if the monomer was add to peptide.\n",
    "        \n",
    "        Returns: True, if the mnomer was processed\n",
    "        '''\n",
    "        return self.processed[index]\n",
    "\n",
    "    def type_of_edge(self, edge):\n",
    "        '''\n",
    "        Check a type of edge\n",
    "        \n",
    "        Returns: type of edge: amino, etc\n",
    "        '''\n",
    "        pass \n",
    "    \n",
    "    def get_successors(self, index):\n",
    "        '''\n",
    "        Get a list of successors of the monomer.\n",
    "        \n",
    "        Returns: list of successors\n",
    "        '''\n",
    "        successors = []\n",
    "        for edges in self.list_of_edges:\n",
    "            if edges[0] == index:\n",
    "                successors.append(edges[1])    \n",
    "        return successors\n",
    "    def get_parents(self, index):\n",
    "        parents = []\n",
    "        for edges in self.list_of_edges:\n",
    "            if edges[1] == index:\n",
    "                parents.append(edges[0])    \n",
    "        return parents\n",
    "\n",
    "    def type_of_graph(self):\n",
    "        '''\n",
    "        Check a type of graph:  simple sequence, simple cycle or complex graph.\n",
    "        \n",
    "        Returns: string type\n",
    "        '''\n",
    "        cnt = 0\n",
    "        out_deg=[]\n",
    "        for i in range(len(self.list_of_monomers)):\n",
    "            out_deg.append(len(self.get_successors(i)))\n",
    "            if out_deg[i] >=2:\n",
    "                return \"Complex\"\n",
    "            if out_deg[i]==1:\n",
    "                cnt+=1\n",
    "        if cnt == len(self.list_of_monomers):\n",
    "            return \"Cycle\"\n",
    "        elif cnt == len(self.list_of_monomers)-1:\n",
    "            return \"SimpleSeq\"\n",
    "        else:\n",
    "            return \"Graph is not connected\"\n",
    "        \n",
    "    def find_starting_monomer(self):\n",
    "        '''\n",
    "        Find an index of monomer from which better to start building peptide. Find a vertex of amino group with min degree \n",
    "        \n",
    "        Returns: An index of monomer\n",
    "        '''\n",
    "        min_degree=5 #кажется больше не нужно с химической точки зрения\n",
    "        for i in range(len(self.list_of_monomers)):\n",
    "            if min_degree > len(self.list_of_monomers[i].GetSubstructMatches(amino_group)):\n",
    "                min_degree = len(self.list_of_monomers[i].GetSubstructMatches(amino_group))\n",
    "                index = i\n",
    "        return index\n",
    "            "
   ]
  },
  {
   "cell_type": "code",
   "execution_count": 16,
   "id": "c238e741",
   "metadata": {},
   "outputs": [],
   "source": [
    "peptide_graph = Graph()"
   ]
  },
  {
   "cell_type": "code",
   "execution_count": 17,
   "id": "8cc58bd2",
   "metadata": {},
   "outputs": [],
   "source": [
    "peptide_graph.read_from_string(\"Cl2-Pro,Abu,Ser,Phe,Ser;0,1;1,2;2,3;3,4;4,0\") #Граф для примера\n",
    "#peptide_graph.read_from_string(\"Phe,Ser,Cl2-Pro,Abu,Ser;0,1;1,2;2,3;3,4;4,0\")"
   ]
  },
  {
   "cell_type": "markdown",
   "id": "bad608a2",
   "metadata": {},
   "source": [
    "## Построение пептида"
   ]
  },
  {
   "cell_type": "code",
   "execution_count": 18,
   "id": "d7a47d86",
   "metadata": {},
   "outputs": [],
   "source": [
    "monomers = peptide_graph.list_of_monomers"
   ]
  },
  {
   "cell_type": "code",
   "execution_count": 19,
   "id": "a16167f3",
   "metadata": {},
   "outputs": [
    {
     "data": {
      "image/png": "[encoded data removed]",
      "text/plain": [
       "<IPython.core.display.Image object>"
      ]
     },
     "execution_count": 19,
     "metadata": {},
     "output_type": "execute_result"
    }
   ],
   "source": [
    "MolsToGridImage(monomers)"
   ]
  },
  {
   "cell_type": "code",
   "execution_count": 20,
   "id": "ca63cab2",
   "metadata": {},
   "outputs": [],
   "source": [
    "#класс будет усложнятся по мере усложнений\n",
    "class Peptide: \n",
    "    \"\"\"\n",
    "    Peptide class represents a peptide, which we build\n",
    "\n",
    "    - mol: molecula, which we already built\n",
    "    - successors: list of successors of subgraph, that represent the molecula \n",
    "\n",
    "    You might want to add other fields/methods for Peptide\n",
    "    \"\"\"\n",
    "    def __init__(self, mol,successors):\n",
    "        self.mol = mol\n",
    "        self.successors=successors"
   ]
  },
  {
   "cell_type": "code",
   "execution_count": 21,
   "id": "9daf003c",
   "metadata": {},
   "outputs": [],
   "source": [
    "def remove_OH(mol):\n",
    "    \"\"\"\n",
    "    Removes -OH from carboxyl group of molecula\n",
    "    \n",
    "    Returns: Molecula without -OH\n",
    "    \"\"\"\n",
    "    mw1 = Chem.RWMol(mol)\n",
    "    mw1.RemoveAtom(mol.GetSubstructMatches(without_radical)[0][4])\n",
    "    return mw1"
   ]
  },
  {
   "cell_type": "code",
   "execution_count": 22,
   "id": "c07e9341",
   "metadata": {},
   "outputs": [],
   "source": [
    "def find_amino_index(amino_linkages):\n",
    "    \"\"\"\n",
    "    Finds amino group with minimum amount of linkages\n",
    "    \n",
    "    Returns: amino group index\n",
    "    \"\"\"\n",
    "    dict_freq = {}\n",
    "    for link in amino_linkages:\n",
    "        if  link[0] in dict_freq:\n",
    "            dict_freq[link[0]] +=1\n",
    "        else:\n",
    "            dict_freq[link[0]] =1\n",
    "    min_freq_link = (\"\", 4)\n",
    "    for link in dict_freq:\n",
    "        if dict_freq[link] < min_freq_link[1]:\n",
    "            min_freq_link = (link,dict_freq[link]) \n",
    "    return min_freq_link[0]"
   ]
  },
  {
   "cell_type": "code",
   "execution_count": 23,
   "id": "3d2663b8",
   "metadata": {},
   "outputs": [],
   "source": [
    "def peptide_linkage(mol_without_OH, next_mol):\n",
    "    \"\"\"\n",
    "    Makes peptide linkage between peptide and new monomer\n",
    "    \n",
    "    Returns: new smiles, peptide\n",
    "    \"\"\"\n",
    "    combo = Chem.CombineMols(mol_without_OH, next_mol)\n",
    "    edcombo = Chem.EditableMol(combo)\n",
    "    combo.GetSubstructMatches(without_OH)\n",
    "    edcombo.AddBond(mol_without_OH.GetNumAtoms()-2, combo.GetSubstructMatches(amino_group)[-1][0],\n",
    "                    order=Chem.rdchem.BondType.SINGLE)\n",
    "    back = edcombo.GetMol()\n",
    "    back2 = Chem.MolToSmiles(back)\n",
    "    peptide = Chem.MolFromSmiles(back2)\n",
    "    return back2, peptide"
   ]
  },
  {
   "cell_type": "code",
   "execution_count": 24,
   "id": "9e069ea3",
   "metadata": {},
   "outputs": [],
   "source": [
    "def monomers_to_peptide(graph):\n",
    "    \"\"\"\n",
    "    Link monomers in sequence or cycle\n",
    "    \n",
    "    Returns: smiles, peptide\n",
    "    \"\"\"\n",
    "    start_index = peptide_graph.find_starting_monomer()\n",
    "    peptide = Peptide(graph.list_of_monomers[start_index], graph.get_successors(start_index))\n",
    "    graph.processed[start_index]=True\n",
    "    while len(peptide.successors) != 0 and graph.was_processed(peptide.successors[0]) == False:\n",
    "        graph.processed[peptide.successors[0]]=True #помечаем присоединяемый мономер как посещенный\n",
    "        #если будет больше соседей, придется усложнять функцию\n",
    "        smile, peptide.mol = peptide_linkage(remove_OH(peptide.mol), graph.list_of_monomers[peptide.successors[0]])\n",
    "        peptide.successors = graph.get_successors(peptide.successors[0])\n",
    "        \n",
    "    if graph.was_processed(peptide.successors[0]):\n",
    "        peptide.mol = remove_OH(peptide.mol)\n",
    "        peptw = Chem.RWMol(peptide.mol)\n",
    "        peptw.AddBond(peptide.mol.GetNumAtoms()-2, find_amino_index(peptide.mol.GetSubstructMatches(amino_group)),\n",
    "                    order=Chem.rdchem.BondType.SINGLE)\n",
    "        back = peptw.GetMol()\n",
    "        smile = Chem.MolToSmiles(back)\n",
    "        peptide.mol = Chem.MolFromSmiles(smile)\n",
    "    return smile, peptide.mol"
   ]
  },
  {
   "cell_type": "code",
   "execution_count": 25,
   "id": "b92ac046",
   "metadata": {},
   "outputs": [],
   "source": [
    "smile, peptide = monomers_to_peptide(peptide_graph)"
   ]
  },
  {
   "cell_type": "code",
   "execution_count": 26,
   "id": "778592af",
   "metadata": {},
   "outputs": [
    {
     "data": {
      "image/png": "[encoded data removed]",
      "text/plain": [
       "<rdkit.Chem.rdchem.Mol at 0x26cb0a33760>"
      ]
     },
     "execution_count": 26,
     "metadata": {},
     "output_type": "execute_result"
    }
   ],
   "source": [
    "peptide"
   ]
  },
  {
   "cell_type": "code",
   "execution_count": 27,
   "id": "102d688f",
   "metadata": {},
   "outputs": [
    {
     "data": {
      "text/plain": [
       "'CCC1NC(=O)C2C(Cl)C(Cl)CN2C(=O)C(CO)NC(=O)C(Cc2ccccc2)NC(=O)C(CO)NC1=O'"
      ]
     },
     "execution_count": 27,
     "metadata": {},
     "output_type": "execute_result"
    }
   ],
   "source": [
    "smile"
   ]
  },
  {
   "cell_type": "code",
   "execution_count": null,
   "id": "0e28d151",
   "metadata": {},
   "outputs": [],
   "source": []
  }
 ],
 "metadata": {
  "kernelspec": {
   "display_name": "Python 3 (ipykernel)",
   "language": "python",
   "name": "python3"
  },
  "language_info": {
   "codemirror_mode": {
    "name": "ipython",
    "version": 3
   },
   "file_extension": ".py",
   "mimetype": "text/x-python",
   "name": "python",
   "nbconvert_exporter": "python",
   "pygments_lexer": "ipython3",
   "version": "3.9.7"
  }
 },
 "nbformat": 4,
 "nbformat_minor": 5
}
